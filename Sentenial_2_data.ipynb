{
 "cells": [
  {
   "cell_type": "code",
   "execution_count": 1,
   "id": "685e9244",
   "metadata": {},
   "outputs": [
    {
     "name": "stderr",
     "output_type": "stream",
     "text": [
      "/Users/amandaworthy/opt/anaconda3/envs/uwgda2022/lib/python3.9/site-packages/xarray/backends/cfgrib_.py:27: UserWarning: Failed to load cfgrib - most likely there is a problem accessing the ecCodes library. Try `import cfgrib` to get the full error message\n",
      "  warnings.warn(\n"
     ]
    }
   ],
   "source": [
    "#import packages\n",
    "import numpy as np\n",
    "import matplotlib.pyplot as plt\n",
    "import pandas as pd\n",
    "import geopandas as gpd\n",
    "from shapely.geometry import Point, Polygon, box\n",
    "import fiona\n",
    "import pyproj\n",
    "import contextily as ctx\n",
    "import os\n",
    "import requests\n",
    "import matplotlib.ticker as ticker\n",
    "\n",
    "#import packages \n",
    "import os\n",
    "from glob import glob\n",
    "import numpy as np\n",
    "import xarray as xr\n",
    "import pandas as pd\n",
    "import geopandas as gpd\n",
    "#import cartopy.crs as ccrs\n",
    "\n",
    "#%matplotlib widget\n",
    "%matplotlib inline"
   ]
  },
  {
   "cell_type": "code",
   "execution_count": 3,
   "id": "1c4a73a7",
   "metadata": {},
   "outputs": [
    {
     "name": "stdout",
     "output_type": "stream",
     "text": [
      "Collecting sentinelhub\n",
      "  Downloading sentinelhub-3.9.1-py3-none-any.whl (244 kB)\n",
      "\u001b[2K     \u001b[90m━━━━━━━━━━━━━━━━━━━━━━━━━━━━━━━━━━━━━━━\u001b[0m \u001b[32m244.4/244.4 KB\u001b[0m \u001b[31m1.7 MB/s\u001b[0m eta \u001b[36m0:00:00\u001b[0ma \u001b[36m0:00:01\u001b[0m\n",
      "\u001b[?25hRequirement already satisfied: tifffile>=2020.9.30 in /Users/amandaworthy/opt/anaconda3/envs/uwgda2022/lib/python3.9/site-packages (from sentinelhub) (2022.3.16)\n",
      "Requirement already satisfied: typing-extensions in /Users/amandaworthy/opt/anaconda3/envs/uwgda2022/lib/python3.9/site-packages (from sentinelhub) (4.1.1)\n",
      "Collecting dataclasses-json\n",
      "  Downloading dataclasses_json-0.5.13-py3-none-any.whl (26 kB)\n",
      "Requirement already satisfied: requests-oauthlib>=1.0.0 in /Users/amandaworthy/opt/anaconda3/envs/uwgda2022/lib/python3.9/site-packages (from sentinelhub) (1.3.1)\n",
      "Requirement already satisfied: python-dateutil in /Users/amandaworthy/opt/anaconda3/envs/uwgda2022/lib/python3.9/site-packages (from sentinelhub) (2.8.2)\n",
      "Collecting utm\n",
      "  Downloading utm-0.7.0.tar.gz (8.7 kB)\n",
      "  Preparing metadata (setup.py) ... \u001b[?25ldone\n",
      "\u001b[?25hRequirement already satisfied: requests>=2.27.0 in /Users/amandaworthy/opt/anaconda3/envs/uwgda2022/lib/python3.9/site-packages (from sentinelhub) (2.28.1)\n",
      "Collecting tomli\n",
      "  Using cached tomli-2.0.1-py3-none-any.whl (12 kB)\n",
      "Collecting tomli-w\n",
      "  Downloading tomli_w-1.0.0-py3-none-any.whl (6.0 kB)\n",
      "Requirement already satisfied: tqdm in /Users/amandaworthy/opt/anaconda3/envs/uwgda2022/lib/python3.9/site-packages (from sentinelhub) (4.63.1)\n",
      "Collecting pillow>=9.2.0\n",
      "  Downloading Pillow-10.0.0-cp39-cp39-macosx_10_10_x86_64.whl (3.4 MB)\n",
      "\u001b[2K     \u001b[90m━━━━━━━━━━━━━━━━━━━━━━━━━━━━━━━━━━━━━━━━\u001b[0m \u001b[32m3.4/3.4 MB\u001b[0m \u001b[31m2.4 MB/s\u001b[0m eta \u001b[36m0:00:00\u001b[0m00:01\u001b[0m00:01\u001b[0m\n",
      "\u001b[?25hRequirement already satisfied: oauthlib in /Users/amandaworthy/opt/anaconda3/envs/uwgda2022/lib/python3.9/site-packages (from sentinelhub) (3.2.0)\n",
      "Requirement already satisfied: click in /Users/amandaworthy/opt/anaconda3/envs/uwgda2022/lib/python3.9/site-packages (from sentinelhub) (8.1.3)\n",
      "Requirement already satisfied: numpy in /Users/amandaworthy/opt/anaconda3/envs/uwgda2022/lib/python3.9/site-packages (from sentinelhub) (1.22.1)\n",
      "Requirement already satisfied: pyproj>=2.2.0 in /Users/amandaworthy/opt/anaconda3/envs/uwgda2022/lib/python3.9/site-packages (from sentinelhub) (3.3.0)\n",
      "Requirement already satisfied: shapely in /Users/amandaworthy/opt/anaconda3/envs/uwgda2022/lib/python3.9/site-packages (from sentinelhub) (1.8.0)\n",
      "Collecting aenum>=2.1.4\n",
      "  Downloading aenum-3.1.15-py3-none-any.whl (137 kB)\n",
      "\u001b[2K     \u001b[90m━━━━━━━━━━━━━━━━━━━━━━━━━━━━━━━━━━━━━━━\u001b[0m \u001b[32m137.6/137.6 KB\u001b[0m \u001b[31m1.5 MB/s\u001b[0m eta \u001b[36m0:00:00\u001b[0ma \u001b[36m0:00:01\u001b[0m\n",
      "\u001b[?25hRequirement already satisfied: certifi in /Users/amandaworthy/opt/anaconda3/envs/uwgda2022/lib/python3.9/site-packages (from pyproj>=2.2.0->sentinelhub) (2021.10.8)\n",
      "Requirement already satisfied: charset-normalizer<3,>=2 in /Users/amandaworthy/opt/anaconda3/envs/uwgda2022/lib/python3.9/site-packages (from requests>=2.27.0->sentinelhub) (2.0.12)\n",
      "Requirement already satisfied: idna<4,>=2.5 in /Users/amandaworthy/opt/anaconda3/envs/uwgda2022/lib/python3.9/site-packages (from requests>=2.27.0->sentinelhub) (3.3)\n",
      "Requirement already satisfied: urllib3<1.27,>=1.21.1 in /Users/amandaworthy/opt/anaconda3/envs/uwgda2022/lib/python3.9/site-packages (from requests>=2.27.0->sentinelhub) (1.26.9)\n",
      "Collecting typing-inspect<1,>=0.4.0\n",
      "  Downloading typing_inspect-0.9.0-py3-none-any.whl (8.8 kB)\n",
      "Collecting marshmallow<4.0.0,>=3.18.0\n",
      "  Downloading marshmallow-3.20.1-py3-none-any.whl (49 kB)\n",
      "\u001b[2K     \u001b[90m━━━━━━━━━━━━━━━━━━━━━━━━━━━━━━━━━━━━━━━━\u001b[0m \u001b[32m49.4/49.4 KB\u001b[0m \u001b[31m1.1 MB/s\u001b[0m eta \u001b[36m0:00:00\u001b[0ma \u001b[36m0:00:01\u001b[0m\n",
      "\u001b[?25hRequirement already satisfied: six>=1.5 in /Users/amandaworthy/opt/anaconda3/envs/uwgda2022/lib/python3.9/site-packages (from python-dateutil->sentinelhub) (1.16.0)\n",
      "Requirement already satisfied: packaging>=17.0 in /Users/amandaworthy/opt/anaconda3/envs/uwgda2022/lib/python3.9/site-packages (from marshmallow<4.0.0,>=3.18.0->dataclasses-json->sentinelhub) (21.3)\n",
      "Collecting mypy-extensions>=0.3.0\n",
      "  Downloading mypy_extensions-1.0.0-py3-none-any.whl (4.7 kB)\n",
      "Requirement already satisfied: pyparsing!=3.0.5,>=2.0.2 in /Users/amandaworthy/opt/anaconda3/envs/uwgda2022/lib/python3.9/site-packages (from packaging>=17.0->marshmallow<4.0.0,>=3.18.0->dataclasses-json->sentinelhub) (3.0.7)\n",
      "Building wheels for collected packages: utm\n",
      "  Building wheel for utm (setup.py) ... \u001b[?25ldone\n",
      "\u001b[?25h  Created wheel for utm: filename=utm-0.7.0-py3-none-any.whl size=6108 sha256=dbba5645f1cd869aa3649ffacff8e1d314fe362884dae69a47b61672107eab1a\n",
      "  Stored in directory: /Users/amandaworthy/Library/Caches/pip/wheels/75/f0/dd/39dfc9436520412399934d4a8566fe5c0cb8cc2568a1196057\n",
      "Successfully built utm\n",
      "Installing collected packages: utm, aenum, tomli-w, tomli, pillow, mypy-extensions, typing-inspect, marshmallow, dataclasses-json, sentinelhub\n",
      "  Attempting uninstall: pillow\n",
      "    Found existing installation: Pillow 9.0.0\n",
      "    Uninstalling Pillow-9.0.0:\n",
      "      Successfully uninstalled Pillow-9.0.0\n",
      "\u001b[31mERROR: pip's dependency resolver does not currently take into account all the packages that are installed. This behaviour is the source of the following dependency conflicts.\n",
      "cloupy 1.1.0 requires Pillow<=9.0.0,>=8.4.0, but you have pillow 10.0.0 which is incompatible.\n",
      "cloupy 1.1.0 requires requests<=2.27.1,>=2.26.0, but you have requests 2.28.1 which is incompatible.\u001b[0m\u001b[31m\n",
      "\u001b[0mSuccessfully installed aenum-3.1.15 dataclasses-json-0.5.13 marshmallow-3.20.1 mypy-extensions-1.0.0 pillow-10.0.0 sentinelhub-3.9.1 tomli-2.0.1 tomli-w-1.0.0 typing-inspect-0.9.0 utm-0.7.0\n"
     ]
    }
   ],
   "source": [
    "! pip install sentinelhub"
   ]
  },
  {
   "cell_type": "code",
   "execution_count": 4,
   "id": "d378aeda",
   "metadata": {},
   "outputs": [],
   "source": [
    "from sentinelhub import DataCollection"
   ]
  },
  {
   "cell_type": "code",
   "execution_count": 5,
   "id": "f6486e51",
   "metadata": {},
   "outputs": [
    {
     "name": "stdout",
     "output_type": "stream",
     "text": [
      "DataCollection.SENTINEL2_L1C\n",
      "DataCollection.SENTINEL2_L2A\n",
      "DataCollection.SENTINEL1\n",
      "DataCollection.SENTINEL1_IW\n",
      "DataCollection.SENTINEL1_IW_ASC\n",
      "DataCollection.SENTINEL1_IW_DES\n",
      "DataCollection.SENTINEL1_EW\n",
      "DataCollection.SENTINEL1_EW_ASC\n",
      "DataCollection.SENTINEL1_EW_DES\n",
      "DataCollection.SENTINEL1_EW_SH\n",
      "DataCollection.SENTINEL1_EW_SH_ASC\n",
      "DataCollection.SENTINEL1_EW_SH_DES\n",
      "DataCollection.DEM\n",
      "DataCollection.DEM_MAPZEN\n",
      "DataCollection.DEM_COPERNICUS_30\n",
      "DataCollection.DEM_COPERNICUS_90\n",
      "DataCollection.MODIS\n",
      "DataCollection.LANDSAT_MSS_L1\n",
      "DataCollection.LANDSAT_TM_L1\n",
      "DataCollection.LANDSAT_TM_L2\n",
      "DataCollection.LANDSAT_ETM_L1\n",
      "DataCollection.LANDSAT_ETM_L2\n",
      "DataCollection.LANDSAT_OT_L1\n",
      "DataCollection.LANDSAT_OT_L2\n",
      "DataCollection.SENTINEL5P\n",
      "DataCollection.SENTINEL3_OLCI\n",
      "DataCollection.SENTINEL3_SLSTR\n",
      "DataCollection.HARMONIZED_LANDSAT_SENTINEL\n"
     ]
    }
   ],
   "source": [
    "for collection in DataCollection.get_available_collections():\n",
    "    print(collection)"
   ]
  },
  {
   "cell_type": "code",
   "execution_count": 55,
   "id": "2408ae05",
   "metadata": {},
   "outputs": [
    {
     "data": {
      "text/plain": [
       "<DataCollection.LANDSAT_OT_L1: DataCollectionDefinition(\n",
       "  api_id: landsat-ot-l1\n",
       "  catalog_id: landsat-ot-l1\n",
       "  wfs_id: DSS12\n",
       "  service_url: https://services-uswest2.sentinel-hub.com\n",
       "  collection_type: Landsat 8 OLI and TIRS\n",
       "  sensor_type: OLI-TIRS\n",
       "  processing_level: L1\n",
       "  bands: (Band(name='B01', units=(<Unit.REFLECTANCE: 'REFLECTANCE'>,), output_types=(<class 'numpy.float32'>,)), Band(name='B02', units=(<Unit.REFLECTANCE: 'REFLECTANCE'>,), output_types=(<class 'numpy.float32'>,)), Band(name='B03', units=(<Unit.REFLECTANCE: 'REFLECTANCE'>,), output_types=(<class 'numpy.float32'>,)), Band(name='B04', units=(<Unit.REFLECTANCE: 'REFLECTANCE'>,), output_types=(<class 'numpy.float32'>,)), Band(name='B05', units=(<Unit.REFLECTANCE: 'REFLECTANCE'>,), output_types=(<class 'numpy.float32'>,)), Band(name='B06', units=(<Unit.REFLECTANCE: 'REFLECTANCE'>,), output_types=(<class 'numpy.float32'>,)), Band(name='B07', units=(<Unit.REFLECTANCE: 'REFLECTANCE'>,), output_types=(<class 'numpy.float32'>,)), Band(name='B08', units=(<Unit.REFLECTANCE: 'REFLECTANCE'>,), output_types=(<class 'numpy.float32'>,)), Band(name='B09', units=(<Unit.REFLECTANCE: 'REFLECTANCE'>,), output_types=(<class 'numpy.float32'>,)), Band(name='B10', units=(<Unit.BRIGHTNESS_TEMPERATURE: 'BRIGHTNESS_TEMPERATURE'>,), output_types=(<class 'numpy.float32'>,)), Band(name='B11', units=(<Unit.BRIGHTNESS_TEMPERATURE: 'BRIGHTNESS_TEMPERATURE'>,), output_types=(<class 'numpy.float32'>,)))\n",
       "  metabands: (Band(name='BQA', units=(<Unit.DN: 'DN'>,), output_types=(<class 'numpy.uint16'>,)), Band(name='QA_RADSAT', units=(<Unit.DN: 'DN'>,), output_types=(<class 'numpy.uint16'>,)), Band(name='VAA', units=(<Unit.DEGREES: 'DEGREES'>,), output_types=(<class 'numpy.float32'>,)), Band(name='VZA', units=(<Unit.DEGREES: 'DEGREES'>,), output_types=(<class 'numpy.float32'>,)), Band(name='SAA', units=(<Unit.DEGREES: 'DEGREES'>,), output_types=(<class 'numpy.float32'>,)), Band(name='SZA', units=(<Unit.DEGREES: 'DEGREES'>,), output_types=(<class 'numpy.float32'>,)), Band(name='dataMask', units=(<Unit.DN: 'DN'>,), output_types=(<class 'bool'>,)))\n",
       "  is_timeless: False\n",
       "  has_cloud_coverage: True\n",
       ")>"
      ]
     },
     "execution_count": 55,
     "metadata": {},
     "output_type": "execute_result"
    }
   ],
   "source": [
    "DataCollection.LANDSAT_OT_L1"
   ]
  },
  {
   "cell_type": "code",
   "execution_count": 41,
   "id": "e2887ac9",
   "metadata": {},
   "outputs": [
    {
     "data": {
      "text/plain": [
       "<DataCollection.SENTINEL3_SLSTR: DataCollectionDefinition(\n",
       "  api_id: sentinel-3-slstr\n",
       "  catalog_id: sentinel-3-slstr\n",
       "  wfs_id: DSS9\n",
       "  service_url: https://creodias.sentinel-hub.com\n",
       "  collection_type: Sentinel-3\n",
       "  sensor_type: SLSTR\n",
       "  processing_level: L1B\n",
       "  bands: (Band(name='S1', units=(<Unit.REFLECTANCE: 'REFLECTANCE'>,), output_types=(<class 'numpy.float32'>,)), Band(name='S2', units=(<Unit.REFLECTANCE: 'REFLECTANCE'>,), output_types=(<class 'numpy.float32'>,)), Band(name='S3', units=(<Unit.REFLECTANCE: 'REFLECTANCE'>,), output_types=(<class 'numpy.float32'>,)), Band(name='S4', units=(<Unit.REFLECTANCE: 'REFLECTANCE'>,), output_types=(<class 'numpy.float32'>,)), Band(name='S5', units=(<Unit.REFLECTANCE: 'REFLECTANCE'>,), output_types=(<class 'numpy.float32'>,)), Band(name='S6', units=(<Unit.REFLECTANCE: 'REFLECTANCE'>,), output_types=(<class 'numpy.float32'>,)), Band(name='S7', units=(<Unit.BRIGHTNESS_TEMPERATURE: 'BRIGHTNESS_TEMPERATURE'>,), output_types=(<class 'numpy.float32'>,)), Band(name='S8', units=(<Unit.BRIGHTNESS_TEMPERATURE: 'BRIGHTNESS_TEMPERATURE'>,), output_types=(<class 'numpy.float32'>,)), Band(name='S9', units=(<Unit.BRIGHTNESS_TEMPERATURE: 'BRIGHTNESS_TEMPERATURE'>,), output_types=(<class 'numpy.float32'>,)), Band(name='F1', units=(<Unit.BRIGHTNESS_TEMPERATURE: 'BRIGHTNESS_TEMPERATURE'>,), output_types=(<class 'numpy.float32'>,)), Band(name='F2', units=(<Unit.BRIGHTNESS_TEMPERATURE: 'BRIGHTNESS_TEMPERATURE'>,), output_types=(<class 'numpy.float32'>,)))\n",
       "  metabands: (Band(name='dataMask', units=(<Unit.DN: 'DN'>,), output_types=(<class 'bool'>,)),)\n",
       "  is_timeless: False\n",
       "  has_cloud_coverage: True\n",
       ")>"
      ]
     },
     "execution_count": 41,
     "metadata": {},
     "output_type": "execute_result"
    }
   ],
   "source": [
    "DataCollection.SENTINEL3_SLSTR"
   ]
  },
  {
   "cell_type": "raw",
   "id": "d1b6ecef",
   "metadata": {},
   "source": [
    "evalscript_true_color = \"\"\"\n",
    "//VERSION=3\n",
    "\n",
    "function setup() {\n",
    "    return {\n",
    "        input: [{\n",
    "            bands: [\"B02\", \"B03\", \"B04\"]\n",
    "        }],\n",
    "        output: {\n",
    "            bands: 3\n",
    "        }\n",
    "    };\n",
    "}\n",
    "\n",
    "function evaluatePixel(sample) {\n",
    "    return [sample.B04, sample.B03, sample.B02];\n",
    "}\n",
    "\"\"\""
   ]
  },
  {
   "cell_type": "markdown",
   "id": "8c19ac1a",
   "metadata": {},
   "source": [
    "The Sentinel-3 Level-2 SLSTR LST algorithm (see the LST ATBD) uses a nadir-only split-window approach\n",
    "(Ghent et al., 2017). Split-window algorithms correct for atmospheric effects using the differential\n",
    "absorption in two (or more) IR bands within the same atmospheric window (band of relatively high\n",
    "atmospheric transmittance). In the case of Sentinel-3 the algorithm uses the S8 and S9 channels for the\n",
    "nadir view."
   ]
  },
  {
   "cell_type": "code",
   "execution_count": 59,
   "id": "ab1076bc",
   "metadata": {},
   "outputs": [],
   "source": [
    "from sentinelhub import CRS, BBox, MimeType, SentinelHubRequest, SHConfig\n",
    "\n",
    "# Write your credentials here if you haven't already put them into config.toml\n",
    "CLIENT_ID = \"5e39c7fc-4dc5-47da-bd29-7c85a782c4da\"\n",
    "CLIENT_SECRET = \"OQ+3I,iFRp*GB:?K5u{Dpf3{<4SF:h<D+&#x4y]}\"\n",
    "\n",
    "config = SHConfig()\n",
    "if CLIENT_ID and CLIENT_SECRET:\n",
    "    config.sh_client_id = CLIENT_ID\n",
    "    config.sh_client_secret = CLIENT_SECRET\n",
    "\n",
    "\n",
    "# Columbia Glacier, Alaska\n",
    "glacier_bbox = BBox((-122.5, 47.3, -122, 47.8), crs=CRS.WGS84)\n",
    "glacier_size = (700, 466)\n",
    "time_interval = \"2022-06-15\", \"2022-07-15\"\n",
    "\n",
    "evalscript_true_color = \"\"\"\n",
    "//VERSION=3\n",
    "\n",
    "function setup() {\n",
    "    return {\n",
    "        input: [{\n",
    "            bands: [\"QA_RADSAT\", \"B10\"]\n",
    "        }],\n",
    "        output: {\n",
    "            bands: 1\n",
    "        }\n",
    "    };\n",
    "}\n",
    "\n",
    "function evaluatePixel(sample) {\n",
    "    return [sample.QA, sample.B10];\n",
    "}\n",
    "\"\"\"\n",
    "\n",
    "request = SentinelHubRequest(\n",
    "    evalscript=evalscript_true_color,\n",
    "    input_data=[\n",
    "        SentinelHubRequest.input_data(\n",
    "            data_collection=DataCollection.LANDSAT_OT_L1,\n",
    "            time_interval=time_interval,\n",
    "        )\n",
    "    ],\n",
    "    responses=[SentinelHubRequest.output_response(\"default\", MimeType.PNG)],\n",
    "    bbox=glacier_bbox,\n",
    "    size=glacier_size,\n",
    "    config=config,\n",
    ")\n",
    "\n",
    "image = request.get_data()[0]"
   ]
  },
  {
   "cell_type": "code",
   "execution_count": 60,
   "id": "7091db75",
   "metadata": {},
   "outputs": [
    {
     "data": {
      "image/png": "[encoded data removed]",
      "text/plain": [
       "<Figure size 1080x1080 with 1 Axes>"
      ]
     },
     "metadata": {},
     "output_type": "display_data"
    }
   ],
   "source": [
    "%matplotlib inline\n",
    "from typing import Any, Optional, Tuple\n",
    "\n",
    "import matplotlib.pyplot as plt\n",
    "import numpy as np\n",
    "\n",
    "\n",
    "def plot_image(\n",
    "    image: np.ndarray, factor: float = 1.0, clip_range: Optional[Tuple[float, float]] = None, **kwargs: Any\n",
    ") -> None:\n",
    "    \"\"\"Utility function for plotting RGB images.\"\"\"\n",
    "    fig, ax = plt.subplots(nrows=1, ncols=1, figsize=(15, 15))\n",
    "    if clip_range is not None:\n",
    "        ax.imshow(np.clip(image * factor, *clip_range), **kwargs)\n",
    "    else:\n",
    "        ax.imshow(image * factor, **kwargs)\n",
    "    ax.set_xticks([])\n",
    "    ax.set_yticks([])\n",
    "    \n",
    "\n",
    "\n",
    "\n",
    "plot_image(image, factor=3.5 / 255, clip_range=(0, 1))"
   ]
  },
  {
   "cell_type": "code",
   "execution_count": null,
   "id": "c038151b",
   "metadata": {},
   "outputs": [],
   "source": []
  },
  {
   "cell_type": "code",
   "execution_count": null,
   "id": "6244df56",
   "metadata": {},
   "outputs": [],
   "source": []
  }
 ],
 "metadata": {
  "kernelspec": {
   "display_name": "Python 3 (ipykernel)",
   "language": "python",
   "name": "python3"
  },
  "language_info": {
   "codemirror_mode": {
    "name": "ipython",
    "version": 3
   },
   "file_extension": ".py",
   "mimetype": "text/x-python",
   "name": "python",
   "nbconvert_exporter": "python",
   "pygments_lexer": "ipython3",
   "version": "3.9.12"
  }
 },
 "nbformat": 4,
 "nbformat_minor": 5
}
